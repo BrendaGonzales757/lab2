{
  "cells": [
    {
      "cell_type": "markdown",
      "source": [
        "link del repositorio\n",
        "https://github.com/BrendaGonzales757/lab2"
      ],
      "metadata": {
        "id": "MmMTdIZaAK8y"
      }
    },
    {
      "cell_type": "markdown",
      "metadata": {
        "id": "WkuYcP8WYcUL"
      },
      "source": [
        "REGRESION MULTIVARIABLE"
      ]
    },
    {
      "cell_type": "markdown",
      "source": [
        "Importamos librerias"
      ],
      "metadata": {
        "id": "az4NbZQ37ttd"
      }
    },
    {
      "cell_type": "code",
      "execution_count": null,
      "metadata": {
        "id": "f0WGMMljlHQz"
      },
      "outputs": [],
      "source": [
        "import os\n",
        "import numpy as np\n",
        "from matplotlib import pyplot\n",
        "%matplotlib inline\n",
        "import pandas as pd"
      ]
    },
    {
      "cell_type": "markdown",
      "source": [
        "leemos el csv"
      ],
      "metadata": {
        "id": "3iKfGZyw82RA"
      }
    },
    {
      "cell_type": "code",
      "execution_count": null,
      "metadata": {
        "id": "6BP5grkxlHQ0"
      },
      "outputs": [],
      "source": [
        "data = pd.read_csv('/content/US_births(2018).csv', delimiter=';')"
      ]
    },
    {
      "cell_type": "markdown",
      "source": [
        "separamos las columnas en los valores de x y y"
      ],
      "metadata": {
        "id": "wvp5qMV29fNr"
      }
    },
    {
      "cell_type": "code",
      "execution_count": null,
      "metadata": {
        "id": "YATvZjyZYcUV"
      },
      "outputs": [],
      "source": [
        "X = data.iloc[:, :-1]\n",
        "y = data.iloc[:, -1]\n",
        "m = y.size"
      ]
    },
    {
      "cell_type": "markdown",
      "source": [
        "Normalizamos los x"
      ],
      "metadata": {
        "id": "juxfUmWJ9sRy"
      }
    },
    {
      "cell_type": "code",
      "execution_count": null,
      "metadata": {
        "id": "7xFD8H3WlHQ1"
      },
      "outputs": [],
      "source": [
        "def  featureNormalize(X):\n",
        "    X_norm = X.copy()\n",
        "    mu = np.zeros(X.shape[1])\n",
        "    sigma = np.zeros(X.shape[1])\n",
        "    mu = np.mean(X, axis = 0)\n",
        "    sigma = np.std(X, axis = 0)\n",
        "    X_norm = (X - mu) / sigma\n",
        "    return X_norm, mu, sigma"
      ]
    },
    {
      "cell_type": "markdown",
      "source": [
        "llamamos a la funcion que normaliza x"
      ],
      "metadata": {
        "id": "zfk4achM9v4_"
      }
    },
    {
      "cell_type": "code",
      "execution_count": null,
      "metadata": {
        "id": "ipL_QsTZlHQ2"
      },
      "outputs": [],
      "source": [
        "X_norm, mu, sigma = featureNormalize(X)\n"
      ]
    },
    {
      "cell_type": "markdown",
      "source": [
        "agregamos los valores de 1"
      ],
      "metadata": {
        "id": "fvuQmTq2-Xu4"
      }
    },
    {
      "cell_type": "code",
      "execution_count": null,
      "metadata": {
        "id": "nNaGVxgolHQ2"
      },
      "outputs": [],
      "source": [
        "X = np.concatenate([np.ones((m, 1)), X_norm], axis=1)"
      ]
    },
    {
      "cell_type": "code",
      "execution_count": null,
      "metadata": {
        "id": "EQCMN7KqlHQ3"
      },
      "outputs": [],
      "source": [
        "def computeCostMulti(X, y, theta):\n",
        "    m = y.shape[0]\n",
        "    J = 0\n",
        "    J = (1/(2 * m)) * np.sum(np.square(np.dot(X, theta) - y))\n",
        "    return J"
      ]
    },
    {
      "cell_type": "code",
      "execution_count": 1,
      "metadata": {
        "id": "Vdy_aQUklHQ4"
      },
      "outputs": [],
      "source": [
        "def gradientDescentMulti(X, y, theta, alpha, num_iters):\n",
        "    m = y.shape[0]\n",
        "    theta = theta.copy()\n",
        "    J_history = []\n",
        "    for i in range(num_iters):\n",
        "        theta = theta - (alpha / m) * (np.dot(X, theta) - y).dot(X)\n",
        "        J_history.append(computeCostMulti(X, y, theta))\n",
        "    return theta, J_history"
      ]
    },
    {
      "cell_type": "code",
      "execution_count": null,
      "metadata": {
        "colab": {
          "base_uri": "https://localhost:8080/",
          "height": 472
        },
        "id": "sId0DiH9lHQ4",
        "outputId": "6a6ea687-d0fb-4487-b93c-3083699b11fd"
      },
      "outputs": [
        {
          "output_type": "display_data",
          "data": {
            "text/plain": [
              "<Figure size 640x480 with 1 Axes>"
            ],
            "image/png": "[encoded data removed]"
          },
          "metadata": {}
        }
      ],
      "source": [
        "alpha = 0.0001\n",
        "num_iters = 50000\n",
        "theta = np.zeros(11)\n",
        "theta, J_history = gradientDescentMulti(X, y, theta, alpha, num_iters)\n",
        "pyplot.plot(np.arange(len(J_history)), J_history, lw=2)\n",
        "pyplot.xlabel('Numero de iteraciones')\n",
        "pyplot.ylabel('Costo J')\n",
        "pyplot.title('Convergencia del Descenso por el Gradiente')\n",
        "pyplot.show()"
      ]
    },
    {
      "cell_type": "code",
      "execution_count": null,
      "metadata": {
        "colab": {
          "base_uri": "https://localhost:8080/"
        },
        "id": "fdxixu_gYcUa",
        "outputId": "8285dc25-d1ac-43f0-c520-7379d8ac0227"
      },
      "outputs": [
        {
          "output_type": "stream",
          "name": "stdout",
          "text": [
            "100\n",
            "Shape of X_prediccion: (100, 11)\n",
            "Shape of theta: (11,)\n",
            "Prueba de prediccion  1 : 32\n",
            "Prueba de prediccion  2 : 28\n",
            "Prueba de prediccion  3 : 23\n",
            "Prueba de prediccion  4 : 34\n",
            "Prueba de prediccion  5 : 23\n",
            "Prueba de prediccion  6 : 31\n",
            "Prueba de prediccion  7 : 33\n",
            "Prueba de prediccion  8 : 42\n",
            "Prueba de prediccion  9 : 27\n",
            "Prueba de prediccion  10 : 37\n",
            "Prueba de prediccion  11 : 31\n",
            "Prueba de prediccion  12 : 22\n",
            "Prueba de prediccion  13 : 25\n",
            "Prueba de prediccion  14 : 27\n",
            "Prueba de prediccion  15 : 27\n",
            "Prueba de prediccion  16 : 26\n",
            "Prueba de prediccion  17 : 26\n",
            "Prueba de prediccion  18 : 26\n",
            "Prueba de prediccion  19 : 32\n",
            "Prueba de prediccion  20 : 23\n",
            "Prueba de prediccion  21 : 28\n",
            "Prueba de prediccion  22 : 30\n",
            "Prueba de prediccion  23 : 26\n",
            "Prueba de prediccion  24 : 24\n",
            "Prueba de prediccion  25 : 32\n",
            "Prueba de prediccion  26 : 32\n",
            "Prueba de prediccion  27 : 14\n",
            "Prueba de prediccion  28 : 30\n",
            "Prueba de prediccion  29 : 24\n",
            "Prueba de prediccion  30 : 24\n",
            "Prueba de prediccion  31 : 26\n",
            "Prueba de prediccion  32 : 31\n",
            "Prueba de prediccion  33 : 24\n",
            "Prueba de prediccion  34 : 24\n",
            "Prueba de prediccion  35 : 29\n",
            "Prueba de prediccion  36 : 39\n",
            "Prueba de prediccion  37 : 29\n",
            "Prueba de prediccion  38 : 34\n",
            "Prueba de prediccion  39 : 34\n",
            "Prueba de prediccion  40 : 31\n",
            "Prueba de prediccion  41 : 23\n",
            "Prueba de prediccion  42 : 36\n",
            "Prueba de prediccion  43 : 35\n",
            "Prueba de prediccion  44 : 39\n",
            "Prueba de prediccion  45 : 29\n",
            "Prueba de prediccion  46 : 29\n",
            "Prueba de prediccion  47 : 26\n",
            "Prueba de prediccion  48 : 28\n",
            "Prueba de prediccion  49 : 28\n",
            "Prueba de prediccion  50 : 32\n",
            "Prueba de prediccion  51 : 22\n",
            "Prueba de prediccion  52 : 31\n",
            "Prueba de prediccion  53 : 30\n",
            "Prueba de prediccion  54 : 33\n",
            "Prueba de prediccion  55 : 27\n",
            "Prueba de prediccion  56 : 26\n",
            "Prueba de prediccion  57 : 27\n",
            "Prueba de prediccion  58 : 29\n",
            "Prueba de prediccion  59 : 51\n",
            "Prueba de prediccion  60 : 32\n",
            "Prueba de prediccion  61 : 24\n",
            "Prueba de prediccion  62 : 30\n",
            "Prueba de prediccion  63 : 27\n",
            "Prueba de prediccion  64 : 25\n",
            "Prueba de prediccion  65 : 24\n",
            "Prueba de prediccion  66 : 33\n",
            "Prueba de prediccion  67 : 29\n",
            "Prueba de prediccion  68 : 34\n",
            "Prueba de prediccion  69 : 34\n",
            "Prueba de prediccion  70 : 33\n",
            "Prueba de prediccion  71 : 31\n",
            "Prueba de prediccion  72 : 40\n",
            "Prueba de prediccion  73 : 41\n",
            "Prueba de prediccion  74 : 29\n",
            "Prueba de prediccion  75 : 30\n",
            "Prueba de prediccion  76 : 25\n",
            "Prueba de prediccion  77 : 33\n",
            "Prueba de prediccion  78 : 30\n",
            "Prueba de prediccion  79 : 27\n",
            "Prueba de prediccion  80 : 38\n",
            "Prueba de prediccion  81 : 27\n",
            "Prueba de prediccion  82 : 25\n",
            "Prueba de prediccion  83 : 31\n",
            "Prueba de prediccion  84 : 33\n",
            "Prueba de prediccion  85 : 30\n",
            "Prueba de prediccion  86 : 29\n",
            "Prueba de prediccion  87 : 22\n",
            "Prueba de prediccion  88 : 29\n",
            "Prueba de prediccion  89 : 25\n",
            "Prueba de prediccion  90 : 36\n",
            "Prueba de prediccion  91 : 31\n",
            "Prueba de prediccion  92 : 24\n",
            "Prueba de prediccion  93 : 29\n",
            "Prueba de prediccion  94 : 32\n",
            "Prueba de prediccion  95 : 27\n",
            "Prueba de prediccion  96 : 37\n",
            "Prueba de prediccion  97 : 23\n",
            "Prueba de prediccion  98 : 28\n",
            "Prueba de prediccion  99 : 28\n",
            "Prueba de prediccion  100 : 30\n"
          ]
        }
      ],
      "source": [
        "X_prediccion = pd.read_csv('/content/X_array.csv', delimiter=';')\n",
        "m1 = X_prediccion.shape[0]\n",
        "print(m1)\n",
        "X_prediccion[:] = (X_prediccion[:] - mu) / sigma\n",
        "X_prediccion = np.concatenate([np.ones((m1, 1)), X_prediccion], axis=1)\n",
        "print(f'Shape of X_prediccion: {X_prediccion.shape}')\n",
        "print(f'Shape of theta: {theta.shape}')\n",
        "\n",
        "for i in range(m1):\n",
        "  X_array = X_prediccion[i, :]\n",
        "  predic = np.dot(X_array, theta)\n",
        "  print('Prueba de prediccion ', i+1, ': {:.0f}'.format(predic))"
      ]
    },
    {
      "cell_type": "markdown",
      "metadata": {
        "id": "ak9_NbLzYcUb"
      },
      "source": [
        "ECUACION DE LA NORMAL"
      ]
    },
    {
      "cell_type": "code",
      "execution_count": null,
      "metadata": {
        "id": "nGmpyyfUYcUb"
      },
      "outputs": [],
      "source": [
        "import pandas as pd\n",
        "import numpy as np\n",
        "data = pd.read_csv('/content/US_births(2018).csv', delimiter=';')"
      ]
    },
    {
      "cell_type": "code",
      "execution_count": null,
      "metadata": {
        "id": "1s94iVcmYcUc"
      },
      "outputs": [],
      "source": [
        "X = data.iloc[:, :-1]\n",
        "y = data.iloc[:, -1]\n",
        "m = y.size"
      ]
    },
    {
      "cell_type": "code",
      "execution_count": null,
      "metadata": {
        "colab": {
          "base_uri": "https://localhost:8080/"
        },
        "id": "f1Ahh1pmYcUc",
        "outputId": "0176c69e-6e3e-4a4a-d055-e70db0f52da5"
      },
      "outputs": [
        {
          "output_type": "stream",
          "name": "stdout",
          "text": [
            "   DBWT  DWgt_R  FAGECOMB  ILLB_R  ILOP_R  ILP_R  MAGER  M_Ht_In  PREVIS  \\\n",
            "0  3657     231        31      16      33     16     30       66       8   \n",
            "1  3242     185        35     180     888    180     35       63       9   \n",
            "2  3470     273        31     999     888    999     28       71      17   \n",
            "3  3140     138        26      43     888     43     23       64       6   \n",
            "4  2125     219        35     999     999    999     37       66      15   \n",
            "\n",
            "   PWgt_R  \n",
            "0     190  \n",
            "1     188  \n",
            "2     215  \n",
            "3     138  \n",
            "4     220  \n"
          ]
        }
      ],
      "source": [
        "print(X.head())"
      ]
    },
    {
      "cell_type": "code",
      "execution_count": null,
      "metadata": {
        "id": "vk6a1S56YcUc"
      },
      "outputs": [],
      "source": [
        "X = np.concatenate([np.ones((m, 1)), X], axis=1)"
      ]
    },
    {
      "cell_type": "markdown",
      "source": [],
      "metadata": {
        "id": "V8Lhwfhb5gSE"
      }
    },
    {
      "cell_type": "code",
      "execution_count": null,
      "metadata": {
        "id": "gVZdjjk9lHQ5"
      },
      "outputs": [],
      "source": [
        "def normalEqn(X, y):\n",
        "    theta = np.zeros(X.shape[1])\n",
        "    theta = np.dot(np.dot(np.linalg.inv(np.dot(X.T,X)),X.T),y)\n",
        "    return theta"
      ]
    },
    {
      "cell_type": "code",
      "execution_count": null,
      "metadata": {
        "colab": {
          "base_uri": "https://localhost:8080/"
        },
        "id": "Ybyw-FfolHQ5",
        "outputId": "12421957-f5dd-4c79-a41d-34f518d6398b"
      },
      "outputs": [
        {
          "output_type": "stream",
          "name": "stdout",
          "text": [
            "100\n",
            "Prueba de prediccion  1 : 32\n",
            "Prueba de prediccion  2 : 29\n",
            "Prueba de prediccion  3 : 23\n",
            "Prueba de prediccion  4 : 35\n",
            "Prueba de prediccion  5 : 24\n",
            "Prueba de prediccion  6 : 31\n",
            "Prueba de prediccion  7 : 33\n",
            "Prueba de prediccion  8 : 42\n",
            "Prueba de prediccion  9 : 27\n",
            "Prueba de prediccion  10 : 37\n",
            "Prueba de prediccion  11 : 31\n",
            "Prueba de prediccion  12 : 22\n",
            "Prueba de prediccion  13 : 25\n",
            "Prueba de prediccion  14 : 27\n",
            "Prueba de prediccion  15 : 27\n",
            "Prueba de prediccion  16 : 27\n",
            "Prueba de prediccion  17 : 26\n",
            "Prueba de prediccion  18 : 26\n",
            "Prueba de prediccion  19 : 33\n",
            "Prueba de prediccion  20 : 24\n",
            "Prueba de prediccion  21 : 28\n",
            "Prueba de prediccion  22 : 30\n",
            "Prueba de prediccion  23 : 26\n",
            "Prueba de prediccion  24 : 24\n",
            "Prueba de prediccion  25 : 33\n",
            "Prueba de prediccion  26 : 33\n",
            "Prueba de prediccion  27 : 15\n",
            "Prueba de prediccion  28 : 30\n",
            "Prueba de prediccion  29 : 24\n",
            "Prueba de prediccion  30 : 24\n",
            "Prueba de prediccion  31 : 26\n",
            "Prueba de prediccion  32 : 31\n",
            "Prueba de prediccion  33 : 24\n",
            "Prueba de prediccion  34 : 25\n",
            "Prueba de prediccion  35 : 29\n",
            "Prueba de prediccion  36 : 39\n",
            "Prueba de prediccion  37 : 29\n",
            "Prueba de prediccion  38 : 34\n",
            "Prueba de prediccion  39 : 34\n",
            "Prueba de prediccion  40 : 31\n",
            "Prueba de prediccion  41 : 24\n",
            "Prueba de prediccion  42 : 36\n",
            "Prueba de prediccion  43 : 35\n",
            "Prueba de prediccion  44 : 39\n",
            "Prueba de prediccion  45 : 29\n",
            "Prueba de prediccion  46 : 30\n",
            "Prueba de prediccion  47 : 26\n",
            "Prueba de prediccion  48 : 28\n",
            "Prueba de prediccion  49 : 28\n",
            "Prueba de prediccion  50 : 32\n",
            "Prueba de prediccion  51 : 22\n",
            "Prueba de prediccion  52 : 31\n",
            "Prueba de prediccion  53 : 31\n",
            "Prueba de prediccion  54 : 34\n",
            "Prueba de prediccion  55 : 28\n",
            "Prueba de prediccion  56 : 26\n",
            "Prueba de prediccion  57 : 27\n",
            "Prueba de prediccion  58 : 29\n",
            "Prueba de prediccion  59 : 51\n",
            "Prueba de prediccion  60 : 32\n",
            "Prueba de prediccion  61 : 24\n",
            "Prueba de prediccion  62 : 30\n",
            "Prueba de prediccion  63 : 27\n",
            "Prueba de prediccion  64 : 25\n",
            "Prueba de prediccion  65 : 24\n",
            "Prueba de prediccion  66 : 33\n",
            "Prueba de prediccion  67 : 29\n",
            "Prueba de prediccion  68 : 34\n",
            "Prueba de prediccion  69 : 34\n",
            "Prueba de prediccion  70 : 33\n",
            "Prueba de prediccion  71 : 32\n",
            "Prueba de prediccion  72 : 40\n",
            "Prueba de prediccion  73 : 42\n",
            "Prueba de prediccion  74 : 29\n",
            "Prueba de prediccion  75 : 30\n",
            "Prueba de prediccion  76 : 26\n",
            "Prueba de prediccion  77 : 33\n",
            "Prueba de prediccion  78 : 30\n",
            "Prueba de prediccion  79 : 28\n",
            "Prueba de prediccion  80 : 38\n",
            "Prueba de prediccion  81 : 27\n",
            "Prueba de prediccion  82 : 25\n",
            "Prueba de prediccion  83 : 32\n",
            "Prueba de prediccion  84 : 33\n",
            "Prueba de prediccion  85 : 31\n",
            "Prueba de prediccion  86 : 30\n",
            "Prueba de prediccion  87 : 23\n",
            "Prueba de prediccion  88 : 30\n",
            "Prueba de prediccion  89 : 25\n",
            "Prueba de prediccion  90 : 37\n",
            "Prueba de prediccion  91 : 31\n",
            "Prueba de prediccion  92 : 25\n",
            "Prueba de prediccion  93 : 29\n",
            "Prueba de prediccion  94 : 32\n",
            "Prueba de prediccion  95 : 27\n",
            "Prueba de prediccion  96 : 38\n",
            "Prueba de prediccion  97 : 23\n",
            "Prueba de prediccion  98 : 28\n",
            "Prueba de prediccion  99 : 28\n",
            "Prueba de prediccion  100 : 30\n"
          ]
        }
      ],
      "source": [
        "theta = normalEqn(X, y)\n",
        "\n",
        "X_prediccion = pd.read_csv('/content/X_array.csv', delimiter=';')\n",
        "m1 = X_prediccion.shape[0]\n",
        "print(m1)\n",
        "X_prediccion = np.concatenate([np.ones((m1, 1)), X_prediccion], axis=1)\n",
        "\n",
        "\n",
        "for i in range(m1):\n",
        "  X_array = X_prediccion[i, :]\n",
        "  predic = np.dot(X_array, theta)\n",
        "  print('Prueba de prediccion ', i+1, ': {:.0f}'.format(predic))"
      ]
    },
    {
      "cell_type": "markdown",
      "metadata": {
        "id": "9snCjI5WYcUe"
      },
      "source": [
        "REGRESION POLINOMIAL"
      ]
    },
    {
      "cell_type": "code",
      "execution_count": null,
      "metadata": {
        "id": "0yYobs1DYcUe"
      },
      "outputs": [],
      "source": [
        "data = pd.read_csv('/content/US_births(2018).csv', delimiter=\";\")"
      ]
    },
    {
      "cell_type": "code",
      "execution_count": null,
      "metadata": {
        "colab": {
          "base_uri": "https://localhost:8080/"
        },
        "id": "8LoL9ri-YcUf",
        "outputId": "9d0bf62a-9222-4d00-9343-01c703541492"
      },
      "outputs": [
        {
          "output_type": "stream",
          "name": "stdout",
          "text": [
            "<class 'pandas.core.frame.DataFrame'>\n",
            "RangeIndex: 198414 entries, 0 to 198413\n",
            "Data columns (total 11 columns):\n",
            " #   Column    Non-Null Count   Dtype\n",
            "---  ------    --------------   -----\n",
            " 0   DBWT      198414 non-null  int64\n",
            " 1   DWgt_R    198414 non-null  int64\n",
            " 2   FAGECOMB  198414 non-null  int64\n",
            " 3   ILLB_R    198414 non-null  int64\n",
            " 4   ILOP_R    198414 non-null  int64\n",
            " 5   ILP_R     198414 non-null  int64\n",
            " 6   MAGER     198414 non-null  int64\n",
            " 7   M_Ht_In   198414 non-null  int64\n",
            " 8   PREVIS    198414 non-null  int64\n",
            " 9   PWgt_R    198414 non-null  int64\n",
            " 10  WTGAIN    198414 non-null  int64\n",
            "dtypes: int64(11)\n",
            "memory usage: 16.7 MB\n"
          ]
        }
      ],
      "source": [
        "data.info()"
      ]
    },
    {
      "cell_type": "code",
      "execution_count": null,
      "metadata": {
        "id": "JKPjxE9UYcUf"
      },
      "outputs": [],
      "source": [
        "X = data.iloc[:, :-1]\n",
        "y = data.iloc[:, -1]\n",
        "m = y.size"
      ]
    },
    {
      "cell_type": "code",
      "execution_count": null,
      "metadata": {
        "colab": {
          "base_uri": "https://localhost:8080/"
        },
        "id": "FjsSFi0CYcUg",
        "outputId": "9b0add12-14b9-491e-fa76-55b2fc1753d9"
      },
      "outputs": [
        {
          "output_type": "stream",
          "name": "stdout",
          "text": [
            "        DBWT  DWgt_R  FAGECOMB  ILLB_R  ILOP_R  ILP_R  MAGER  M_Ht_In  PREVIS  \\\n",
            "0       3657     231        31      16      33     16     30       66       8   \n",
            "1       3242     185        35     180     888    180     35       63       9   \n",
            "2       3470     273        31     999     888    999     28       71      17   \n",
            "3       3140     138        26      43     888     43     23       64       6   \n",
            "4       2125     219        35     999     999    999     37       66      15   \n",
            "...      ...     ...       ...     ...     ...    ...    ...      ...     ...   \n",
            "198409  3745     188        37      52     888     52     33       65      12   \n",
            "198410  3550     185        34      57     888     57     33       68      11   \n",
            "198411  3960     181        39      76     888     76     37       63      20   \n",
            "198412  3230     177        38      43     888     43     33       63      11   \n",
            "198413  3000     181        41     888     888    888     37       64      11   \n",
            "\n",
            "        PWgt_R  \n",
            "0          190  \n",
            "1          188  \n",
            "2          215  \n",
            "3          138  \n",
            "4          220  \n",
            "...        ...  \n",
            "198409     160  \n",
            "198410     149  \n",
            "198411     164  \n",
            "198412     174  \n",
            "198413     160  \n",
            "\n",
            "[198414 rows x 10 columns]\n",
            "0         41\n",
            "1          0\n",
            "2         58\n",
            "3          0\n",
            "4          0\n",
            "          ..\n",
            "198409    28\n",
            "198410    36\n",
            "198411    17\n",
            "198412     3\n",
            "198413    21\n",
            "Name: WTGAIN, Length: 198414, dtype: int64\n",
            "198414\n"
          ]
        }
      ],
      "source": [
        "print(X)\n",
        "print(y)\n",
        "print(m)"
      ]
    },
    {
      "cell_type": "code",
      "execution_count": null,
      "metadata": {
        "id": "1ywY42kOYcUg"
      },
      "outputs": [],
      "source": [
        "X = np.concatenate([X, X * X], axis=1)"
      ]
    },
    {
      "cell_type": "code",
      "execution_count": null,
      "metadata": {
        "colab": {
          "base_uri": "https://localhost:8080/"
        },
        "id": "JDzFW4CkYcUg",
        "outputId": "ce23b3ac-19be-40f7-ee51-7c913a7e923d"
      },
      "outputs": [
        {
          "output_type": "stream",
          "name": "stdout",
          "text": [
            "[[ 3657   231    31 ...  4356    64 36100]\n",
            " [ 3242   185    35 ...  3969    81 35344]\n",
            " [ 3470   273    31 ...  5041   289 46225]\n",
            " ...\n",
            " [ 3960   181    39 ...  3969   400 26896]\n",
            " [ 3230   177    38 ...  3969   121 30276]\n",
            " [ 3000   181    41 ...  4096   121 25600]]\n"
          ]
        }
      ],
      "source": [
        "print(X)"
      ]
    },
    {
      "cell_type": "code",
      "execution_count": null,
      "metadata": {
        "colab": {
          "base_uri": "https://localhost:8080/"
        },
        "id": "-pPsdGDhYcUh",
        "outputId": "b7d78325-688f-4a42-fccd-448beb37d418"
      },
      "outputs": [
        {
          "output_type": "stream",
          "name": "stdout",
          "text": [
            "Número de filas: 198414\n",
            "Número de columnas: 20\n"
          ]
        }
      ],
      "source": [
        "num_filas, num_columnas = X.shape\n",
        "print(\"Número de filas:\", num_filas)\n",
        "print(\"Número de columnas:\", num_columnas)"
      ]
    },
    {
      "cell_type": "code",
      "execution_count": null,
      "metadata": {
        "id": "FkUNL_bFYcUh"
      },
      "outputs": [],
      "source": [
        "def  featureNormalize(X):\n",
        "    X_norm = X.copy()\n",
        "    mu = np.zeros(X.shape[1])\n",
        "    sigma = np.zeros(X.shape[1])\n",
        "\n",
        "    mu = np.mean(X, axis = 0)\n",
        "    sigma = np.std(X, axis = 0)\n",
        "    X_norm = (X - mu) / sigma\n",
        "\n",
        "    return X_norm, mu, sigma"
      ]
    },
    {
      "cell_type": "code",
      "execution_count": null,
      "metadata": {
        "colab": {
          "base_uri": "https://localhost:8080/"
        },
        "id": "2jfnu2atYcUi",
        "outputId": "1e38a665-d66c-4246-ce4f-6518d37e3589"
      },
      "outputs": [
        {
          "output_type": "stream",
          "name": "stdout",
          "text": [
            "[[ 3657   231    31 ...  4356    64 36100]\n",
            " [ 3242   185    35 ...  3969    81 35344]\n",
            " [ 3470   273    31 ...  5041   289 46225]\n",
            " ...\n",
            " [ 3960   181    39 ...  3969   400 26896]\n",
            " [ 3230   177    38 ...  3969   121 30276]\n",
            " [ 3000   181    41 ...  4096   121 25600]]\n",
            "Media calculada: [3.25325594e+03 1.99381505e+02 4.08717328e+01 3.70797716e+02\n",
            " 7.37949651e+02 3.63897512e+02 2.79942040e+01 6.42187446e+01\n",
            " 1.16813279e+01 1.72649949e+02 1.09570358e+07 4.86619592e+04\n",
            " 2.29705264e+03 3.06308130e+05 6.53463626e+05 3.07706599e+05\n",
            " 8.17218926e+02 4.13580956e+03 2.41981004e+02 4.08092173e+04]\n",
            "Desviación estandar calculada: [6.11033200e+02 9.43873641e+01 2.50310625e+01 4.10873683e+02\n",
            " 3.29990816e+02 4.18670753e+02 5.79167216e+00 3.42963497e+00\n",
            " 1.02726619e+01 1.04886665e+02 4.13193913e+06 1.01667654e+05\n",
            " 3.15481785e+03 3.86170748e+05 3.13184883e+05 3.99255658e+05\n",
            " 3.34793571e+02 4.80620925e+02 1.03709895e+03 1.11922395e+05]\n",
            "[[ 0.66075634  0.33498652 -0.3943793  ...  0.45813744 -0.17161429\n",
            "  -0.04207574]\n",
            " [-0.01842116 -0.15236685 -0.23457785 ... -0.34707095 -0.15522242\n",
            "  -0.04883042]\n",
            " [ 0.35471732  0.77996134 -0.3943793  ...  1.88337709  0.04533704\n",
            "   0.04838873]\n",
            " ...\n",
            " [ 1.15663774 -0.1947454  -0.0747764  ... -0.34707095  0.15236636\n",
            "  -0.12431129]\n",
            " [-0.03806003 -0.23712396 -0.11472677 ... -0.34707095 -0.11665329\n",
            "  -0.09411179]\n",
            " [-0.41447165 -0.1947454   0.00512432 ... -0.08282944 -0.11665329\n",
            "  -0.13589074]]\n"
          ]
        }
      ],
      "source": [
        "X_norm, mu, sigma = featureNormalize(X)\n",
        "\n",
        "print(X)\n",
        "print('Media calculada:', mu)\n",
        "print('Desviación estandar calculada:', sigma)\n",
        "print(X_norm)"
      ]
    },
    {
      "cell_type": "code",
      "execution_count": null,
      "metadata": {
        "id": "UbJx4EOdYcUi"
      },
      "outputs": [],
      "source": [
        "X = np.concatenate([np.ones((m, 1)), X_norm], axis=1)"
      ]
    },
    {
      "cell_type": "code",
      "execution_count": null,
      "metadata": {
        "id": "vGXtsukFYcUi",
        "outputId": "52d8026f-0453-41d1-acf9-1033082b3884"
      },
      "outputs": [
        {
          "name": "stdout",
          "output_type": "stream",
          "text": [
            "[[ 1.         -0.39873715 -1.44746357 ...  0.30571255 -0.78856184\n",
            "  -0.08982032]\n",
            " [ 1.         -0.39873715  0.1756067  ...  0.74646654 -0.46943947\n",
            "  -0.08711198]\n",
            " [ 1.         -1.47395936 -1.44746357 ...  0.1351581   0.89741533\n",
            "  -0.08643145]\n",
            " ...\n",
            " [ 1.         -1.47395936 -1.77207762 ...  0.60426342 -1.01581427\n",
            "  -0.09267852]\n",
            " [ 1.         -0.39873715  0.50022075 ... -1.02940117 -0.73063533\n",
            "  -0.09292154]\n",
            " [ 1.         -1.47395936 -1.77207762 ...  0.60426342 -1.01581427\n",
            "  -0.09290257]]\n"
          ]
        }
      ],
      "source": [
        "print(X)"
      ]
    },
    {
      "cell_type": "code",
      "execution_count": null,
      "metadata": {
        "id": "ix23x30tYcUj"
      },
      "outputs": [],
      "source": [
        "def computeCostMulti(X, y, theta):\n",
        "\n",
        "    m = y.shape[0]\n",
        "\n",
        "    J = 0\n",
        "\n",
        "    h = np.dot(X, theta)\n",
        "\n",
        "    J = (1/(2 * m)) * np.sum(np.square(np.dot(X, theta) - y))\n",
        "\n",
        "    return J\n"
      ]
    },
    {
      "cell_type": "code",
      "execution_count": null,
      "metadata": {
        "id": "v6Ohyr3CYcUj"
      },
      "outputs": [],
      "source": [
        "def gradientDescentPoly(X, y, theta, alpha, num_iters):\n",
        "\n",
        "    m = y.shape[0]\n",
        "\n",
        "    theta = theta.copy()\n",
        "\n",
        "    J_history = []\n",
        "\n",
        "    for i in range(num_iters):\n",
        "        theta = theta - (alpha / m) * (np.dot(X, theta) - y).dot(X)\n",
        "        J_history.append(computeCostMulti(X, y, theta))\n",
        "\n",
        "    return theta, J_history"
      ]
    },
    {
      "cell_type": "code",
      "execution_count": null,
      "metadata": {
        "colab": {
          "base_uri": "https://localhost:8080/"
        },
        "id": "8DZOAhnWYcUj",
        "outputId": "3c05add6-c983-45e4-fac6-7967061591e2"
      },
      "outputs": [
        {
          "output_type": "stream",
          "name": "stdout",
          "text": [
            "Número de filas: 198414\n",
            "Número de columnas: 21\n"
          ]
        }
      ],
      "source": [
        "num_filas, num_columnas = X.shape\n",
        "print(\"Número de filas:\", num_filas)\n",
        "print(\"Número de columnas:\", num_columnas)"
      ]
    },
    {
      "cell_type": "code",
      "execution_count": null,
      "metadata": {
        "colab": {
          "base_uri": "https://localhost:8080/",
          "height": 553
        },
        "id": "O6bNPsH-YcUo",
        "outputId": "6364f07e-b406-41b5-e1f2-5e1326068db0"
      },
      "outputs": [
        {
          "output_type": "stream",
          "name": "stdout",
          "text": [
            "theta calculado por el descenso por el gradiente: [ 3.07262572e+01  1.81367724e+00  3.41066666e+00 -2.63913329e-02\n",
            "  7.91885702e-01 -8.67651359e-02  8.59356957e-02 -1.20042381e-01\n",
            "  8.00699990e-01  7.11153536e-01 -5.10455282e+00  7.82217138e-02\n",
            "  2.61632213e+00  5.00839609e-03  7.39799504e-01 -2.79671217e-02\n",
            "  9.54738160e-02 -1.07187139e-01 -1.04857281e-01 -5.24267681e-01\n",
            "  9.31912156e+00]\n"
          ]
        },
        {
          "output_type": "display_data",
          "data": {
            "text/plain": [
              "<Figure size 640x480 with 1 Axes>"
            ],
            "image/png": "[encoded data removed]"
          },
          "metadata": {}
        }
      ],
      "source": [
        "alpha = 0.001\n",
        "num_iters = 10000\n",
        "\n",
        "theta = np.zeros(21)\n",
        "theta, J_history = gradientDescentPoly(X, y, theta, alpha, num_iters)\n",
        "\n",
        "pyplot.plot(np.arange(len(J_history)), J_history, lw=2)\n",
        "pyplot.xlabel('Numero de iteraciones')\n",
        "pyplot.ylabel('Costo J')\n",
        "\n",
        "print('theta calculado por el descenso por el gradiente: {:s}'.format(str(theta)))\n"
      ]
    },
    {
      "cell_type": "code",
      "execution_count": null,
      "metadata": {
        "colab": {
          "base_uri": "https://localhost:8080/"
        },
        "id": "-SL7FDpGYcUp",
        "outputId": "3e08a7a5-828a-4667-c11b-2c86d4761a01"
      },
      "outputs": [
        {
          "output_type": "stream",
          "name": "stdout",
          "text": [
            "100\n",
            "Shape of X_prediccion: (100, 21)\n",
            "Shape of theta: (21,)\n",
            "Prueba de prediccion  1 : 33\n",
            "Prueba de prediccion  2 : 32\n",
            "Prueba de prediccion  3 : 29\n",
            "Prueba de prediccion  4 : 34\n",
            "Prueba de prediccion  5 : 31\n",
            "Prueba de prediccion  6 : 33\n",
            "Prueba de prediccion  7 : 31\n",
            "Prueba de prediccion  8 : 37\n",
            "Prueba de prediccion  9 : 30\n",
            "Prueba de prediccion  10 : 31\n",
            "Prueba de prediccion  11 : 32\n",
            "Prueba de prediccion  12 : 30\n",
            "Prueba de prediccion  13 : 32\n",
            "Prueba de prediccion  14 : 30\n",
            "Prueba de prediccion  15 : 29\n",
            "Prueba de prediccion  16 : 31\n",
            "Prueba de prediccion  17 : 30\n",
            "Prueba de prediccion  18 : 30\n",
            "Prueba de prediccion  19 : 31\n",
            "Prueba de prediccion  20 : 31\n",
            "Prueba de prediccion  21 : 32\n",
            "Prueba de prediccion  22 : 32\n",
            "Prueba de prediccion  23 : 31\n",
            "Prueba de prediccion  24 : 31\n",
            "Prueba de prediccion  25 : 32\n",
            "Prueba de prediccion  26 : 31\n",
            "Prueba de prediccion  27 : 25\n",
            "Prueba de prediccion  28 : 31\n",
            "Prueba de prediccion  29 : 29\n",
            "Prueba de prediccion  30 : 29\n",
            "Prueba de prediccion  31 : 31\n",
            "Prueba de prediccion  32 : 32\n",
            "Prueba de prediccion  33 : 31\n",
            "Prueba de prediccion  34 : 31\n",
            "Prueba de prediccion  35 : 32\n",
            "Prueba de prediccion  36 : 32\n",
            "Prueba de prediccion  37 : 33\n",
            "Prueba de prediccion  38 : 33\n",
            "Prueba de prediccion  39 : 31\n",
            "Prueba de prediccion  40 : 33\n",
            "Prueba de prediccion  41 : 29\n",
            "Prueba de prediccion  42 : 33\n",
            "Prueba de prediccion  43 : 33\n",
            "Prueba de prediccion  44 : 32\n",
            "Prueba de prediccion  45 : 31\n",
            "Prueba de prediccion  46 : 31\n",
            "Prueba de prediccion  47 : 31\n",
            "Prueba de prediccion  48 : 31\n",
            "Prueba de prediccion  49 : 32\n",
            "Prueba de prediccion  50 : 33\n",
            "Prueba de prediccion  51 : 31\n",
            "Prueba de prediccion  52 : 32\n",
            "Prueba de prediccion  53 : 33\n",
            "Prueba de prediccion  54 : 33\n",
            "Prueba de prediccion  55 : 32\n",
            "Prueba de prediccion  56 : 30\n",
            "Prueba de prediccion  57 : 32\n",
            "Prueba de prediccion  58 : 31\n",
            "Prueba de prediccion  59 : 69\n",
            "Prueba de prediccion  60 : 31\n",
            "Prueba de prediccion  61 : 28\n",
            "Prueba de prediccion  62 : 32\n",
            "Prueba de prediccion  63 : 30\n",
            "Prueba de prediccion  64 : 29\n",
            "Prueba de prediccion  65 : 30\n",
            "Prueba de prediccion  66 : 30\n",
            "Prueba de prediccion  67 : 29\n",
            "Prueba de prediccion  68 : 32\n",
            "Prueba de prediccion  69 : 33\n",
            "Prueba de prediccion  70 : 30\n",
            "Prueba de prediccion  71 : 33\n",
            "Prueba de prediccion  72 : 32\n",
            "Prueba de prediccion  73 : 30\n",
            "Prueba de prediccion  74 : 31\n",
            "Prueba de prediccion  75 : 30\n",
            "Prueba de prediccion  76 : 28\n",
            "Prueba de prediccion  77 : 32\n",
            "Prueba de prediccion  78 : 33\n",
            "Prueba de prediccion  79 : 32\n",
            "Prueba de prediccion  80 : 35\n",
            "Prueba de prediccion  81 : 31\n",
            "Prueba de prediccion  82 : 31\n",
            "Prueba de prediccion  83 : 34\n",
            "Prueba de prediccion  84 : 35\n",
            "Prueba de prediccion  85 : 32\n",
            "Prueba de prediccion  86 : 31\n",
            "Prueba de prediccion  87 : 31\n",
            "Prueba de prediccion  88 : 32\n",
            "Prueba de prediccion  89 : 29\n",
            "Prueba de prediccion  90 : 30\n",
            "Prueba de prediccion  91 : 33\n",
            "Prueba de prediccion  92 : 30\n",
            "Prueba de prediccion  93 : 31\n",
            "Prueba de prediccion  94 : 34\n",
            "Prueba de prediccion  95 : 30\n",
            "Prueba de prediccion  96 : 31\n",
            "Prueba de prediccion  97 : 31\n",
            "Prueba de prediccion  98 : 33\n",
            "Prueba de prediccion  99 : 31\n",
            "Prueba de prediccion  100 : 33\n"
          ]
        }
      ],
      "source": [
        "X_prediccion = pd.read_csv('/content/X_array.csv', delimiter=';')\n",
        "X_prediccion = np.concatenate([X_prediccion, X_prediccion * X_prediccion], axis=1)\n",
        "m1 = X_prediccion.shape[0]\n",
        "print(m1)\n",
        "X_prediccion[:] = (X_prediccion[:] - mu) / sigma\n",
        "X_prediccion = np.concatenate([np.ones((m1, 1)), X_prediccion], axis=1)\n",
        "print(f'Shape of X_prediccion: {X_prediccion.shape}')\n",
        "print(f'Shape of theta: {theta.shape}')\n",
        "\n",
        "for i in range(m1):\n",
        "  X_array = X_prediccion[i, :]\n",
        "\n",
        "  predic = np.dot(X_array, theta)\n",
        "  print('Prueba de prediccion ', i+1, ': {:.0f}'.format(predic))"
      ]
    }
  ],
  "metadata": {
    "colab": {
      "provenance": []
    },
    "kernelspec": {
      "display_name": "Python 3",
      "language": "python",
      "name": "python3"
    },
    "language_info": {
      "codemirror_mode": {
        "name": "ipython",
        "version": 3
      },
      "file_extension": ".py",
      "mimetype": "text/x-python",
      "name": "python",
      "nbconvert_exporter": "python",
      "pygments_lexer": "ipython3",
      "version": "3.11.8"
    }
  },
  "nbformat": 4,
  "nbformat_minor": 0
}